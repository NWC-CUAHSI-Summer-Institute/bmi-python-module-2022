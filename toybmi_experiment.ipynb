{
 "cells": [
  {
   "cell_type": "markdown",
   "metadata": {},
   "source": [
    "# Experiment with `toybmi`"
   ]
  },
  {
   "cell_type": "code",
   "execution_count": null,
   "metadata": {},
   "outputs": [],
   "source": [
    "import numpy as np\n",
    "from bmihydro import toybmi"
   ]
  },
  {
   "cell_type": "markdown",
   "metadata": {},
   "source": [
    "Create a `toybmi` object and call some basic methods:"
   ]
  },
  {
   "cell_type": "code",
   "execution_count": null,
   "metadata": {},
   "outputs": [],
   "source": [
    "toy = toybmi()\n",
    "print(\"Input variables:\")\n",
    "print(toy.get_input_var_names())\n",
    "print(\"Output variables:\")\n",
    "print(toy.get_output_var_names())"
   ]
  },
  {
   "cell_type": "markdown",
   "metadata": {},
   "source": [
    "Initialize the model:"
   ]
  },
  {
   "cell_type": "code",
   "execution_count": null,
   "metadata": {},
   "outputs": [],
   "source": [
    "toy.initialize('config.yml')"
   ]
  },
  {
   "cell_type": "markdown",
   "metadata": {},
   "source": [
    "Set some input values:"
   ]
  },
  {
   "cell_type": "code",
   "execution_count": null,
   "metadata": {},
   "outputs": [],
   "source": [
    "w_input = np.array([42.0])\n",
    "toy.set_value('water_input', w_input)\n",
    "rh_input = np.array([0.5])\n",
    "toy.set_value('relative_humidity', rh_input)"
   ]
  },
  {
   "cell_type": "markdown",
   "metadata": {},
   "source": [
    "Increment the model by an hour:"
   ]
  },
  {
   "cell_type": "code",
   "execution_count": null,
   "metadata": {},
   "outputs": [],
   "source": [
    "toy.update_until(3600)"
   ]
  },
  {
   "cell_type": "markdown",
   "metadata": {},
   "source": [
    "Read the output:"
   ]
  },
  {
   "cell_type": "code",
   "execution_count": null,
   "metadata": {},
   "outputs": [],
   "source": [
    "output = np.zeros(1)\n",
    "toy.get_value('water_output', output)"
   ]
  },
  {
   "cell_type": "markdown",
   "metadata": {},
   "source": [
    "Run `toybmi` in the Model Engine:"
   ]
  },
  {
   "cell_type": "code",
   "execution_count": 1,
   "metadata": {},
   "outputs": [
    {
     "name": "stdout",
     "output_type": "stream",
     "text": [
      "NGen Framework 0.1.0\n",
      "Building Nexus collection\n",
      "Building Catchment collection\n",
      "Not Using Routing\n",
      "Catchment topology is dendritic.\n",
      "Running Models\n",
      "Running timestep 0\n",
      "Definition of \"au\" in \"/usr/share/xml/udunits/udunits2-accepted.xml\", line 123, overrides prefixed-unit \"1.6605402e-45 kilogram\"\n",
      "Definition of \"kt\" in \"/usr/share/xml/udunits/udunits2-common.xml\", line 105, overrides prefixed-unit \"1000000 kilogram\"\n",
      "Definition of \"microns\" in \"/usr/share/xml/udunits/udunits2-common.xml\", line 411, overrides prefixed-unit \"1e-15 second\"\n",
      "Definition of \"ft\" in \"/usr/share/xml/udunits/udunits2-common.xml\", line 522, overrides prefixed-unit \"1e-12 kilogram\"\n",
      "Definition of \"yd\" in \"/usr/share/xml/udunits/udunits2-common.xml\", line 531, overrides prefixed-unit \"8.64e-20 second\"\n",
      "Definition of \"pt\" in \"/usr/share/xml/udunits/udunits2-common.xml\", line 785, overrides prefixed-unit \"1e-09 kilogram\"\n",
      "Definition of \"at\" in \"/usr/share/xml/udunits/udunits2-common.xml\", line 1250, overrides prefixed-unit \"1e-15 kilogram\"\n",
      "Definition of \"ph\" in \"/usr/share/xml/udunits/udunits2-common.xml\", line 1880, overrides prefixed-unit \"3.6e-09 second\"\n",
      "Definition of \"nt\" in \"/usr/share/xml/udunits/udunits2-common.xml\", line 1889, overrides prefixed-unit \"1e-06 kilogram\"\n",
      "Running timestep 100\n",
      "Running timestep 200\n",
      "Running timestep 300\n",
      "Running timestep 400\n",
      "Running timestep 500\n",
      "Running timestep 600\n",
      "Running timestep 700\n",
      "Finished 720 timesteps.\n"
     ]
    }
   ],
   "source": [
    "!ngen ~/data/catchment_data.geojson \"cat-67\" ~/data/nexus_data.geojson \"nex-68\" toybmi_realization.json"
   ]
  },
  {
   "cell_type": "markdown",
   "metadata": {},
   "source": [
    "View the results:"
   ]
  },
  {
   "cell_type": "code",
   "execution_count": null,
   "metadata": {},
   "outputs": [],
   "source": [
    "import pandas as pd\n",
    "from datetime import datetime\n",
    "import csv\n",
    "\n",
    "df = pd.read_csv('./cat-67.csv')\n",
    "df['Time'] = df['Time'].map(lambda x: datetime.strptime(str(x), '%Y-%m-%d %H:%M:%S'))\n",
    "print (df)"
   ]
  },
  {
   "cell_type": "code",
   "execution_count": null,
   "metadata": {},
   "outputs": [],
   "source": [
    "import matplotlib.pyplot as plt\n",
    "import matplotlib.dates as mdates\n",
    "\n",
    "# plot\n",
    "plt.plot(df[\"Time\"],df[\"water_output\"])\n",
    "# beautify the x-labels\n",
    "plt.gcf().autofmt_xdate()\n",
    "\n",
    "plt.show()"
   ]
  },
  {
   "cell_type": "code",
   "execution_count": null,
   "metadata": {},
   "outputs": [],
   "source": []
  },
  {
   "cell_type": "code",
   "execution_count": null,
   "metadata": {},
   "outputs": [],
   "source": []
  }
 ],
 "metadata": {
  "interpreter": {
   "hash": "48087b1dd6fd9cac5443e644a0d4129b651e7391329039552a2a569bcdc99a30"
  },
  "kernelspec": {
   "display_name": "Python 3 (ipykernel)",
   "language": "python",
   "name": "python3"
  },
  "language_info": {
   "codemirror_mode": {
    "name": "ipython",
    "version": 3
   },
   "file_extension": ".py",
   "mimetype": "text/x-python",
   "name": "python",
   "nbconvert_exporter": "python",
   "pygments_lexer": "ipython3",
   "version": "3.9.16"
  }
 },
 "nbformat": 4,
 "nbformat_minor": 4
}
